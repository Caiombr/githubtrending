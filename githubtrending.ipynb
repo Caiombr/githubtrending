{
 "cells": [
  {
   "cell_type": "code",
   "execution_count": 119,
   "metadata": {},
   "outputs": [],
   "source": [
    "import os\n",
    "import re\n",
    "import csv\n",
    "\n",
    "import requests\n",
    "from requests.exceptions import HTTPError\n",
    "from bs4 import BeautifulSoup\n",
    "import pandas as pd\n",
    "import seaborn as sns\n",
    "import matplotlib.pyplot as plt"
   ]
  },
  {
   "attachments": {},
   "cell_type": "markdown",
   "metadata": {},
   "source": [
    "Etapa de verificação do arquivo robots.txt do github."
   ]
  },
  {
   "cell_type": "code",
   "execution_count": 120,
   "metadata": {},
   "outputs": [
    {
     "name": "stdout",
     "output_type": "stream",
     "text": [
      "False\n"
     ]
    }
   ],
   "source": [
    "def crawl_website(url: str) -> str:\n",
    "\n",
    "  try:\n",
    "    resposta = requests.get(url)\n",
    "    resposta.raise_for_status()\n",
    "  except HTTPError as exc:\n",
    "    print(exc)\n",
    "  else:\n",
    "    return resposta.text\n",
    "\n",
    "URL = 'https://github.com/robots.txt'\n",
    "\n",
    "robots = crawl_website(url=URL)\n",
    "\n",
    "if  re.findall('ranking', robots, re.IGNORECASE) == True or re.findall('project', robots, re.IGNORECASE) == False:\n",
    "  print(True) \n",
    "else:\n",
    "  print(False) "
   ]
  },
  {
   "attachments": {},
   "cell_type": "markdown",
   "metadata": {},
   "source": [
    "Importação das informações do site para ler com o python."
   ]
  },
  {
   "cell_type": "code",
   "execution_count": 121,
   "metadata": {},
   "outputs": [],
   "source": [
    "URL = 'https://github.com/trending'\n",
    "pagina = crawl_website(url=URL)\n",
    "\n",
    "pagina = BeautifulSoup(conteudo, 'html.parser')\n",
    "projetos = pagina.find_all('article', {'class': 'Box-row'})"
   ]
  },
  {
   "cell_type": "code",
   "execution_count": 122,
   "metadata": {},
   "outputs": [
    {
     "name": "stdout",
     "output_type": "stream",
     "text": [
      "[['qdrant', 'qdrant', 'Rust', 7907, 474, 384], ['pineappleEA', 'pineapple-src', 'C++', 1765, 82, 158], ['mosaicml', 'llm-foundry', 'Python', 890, 151, 45], ['skyline-emu', 'skyline', 'C++', 12735, 35, 1644], ['bigcode-project', 'starcoder', 'Python', 2527, 367, 135], ['openai', 'shap-e', 'Python', 3996, 371, 206], ['xiangsx', 'gpt4free-ts', 'TypeScript', 126, 39, 53], ['GreyDGL', 'PentestGPT', 'Python', 2759, 136, 264], ['azerothcore', 'azerothcore-wotlk', 'C++', 3093, 16, 1694], ['tatsu-lab', 'stanford_alpaca', 'Python', 23160, 115, 3316], ['ellie', 'atuin', 'Rust', 8721, 760, 245], ['AntonioErdeljac', 'next13-messenger', 'TypeScript', 85, 43, 31], ['shchmue', 'Lockpick_RCM', 'C', 1194, 81, 190], ['shchmue', 'Lockpick', 'C', 513, 33, 110], ['eugeneyan', 'open-llms', None, 1300, 195, 75], ['adrianhajdin', 'project_next_13_ai_prompt_sharing', 'JavaScript', 166, 32, 36], ['nadermx', 'backgroundremover', 'Python', 3455, 361, 297], ['Atmosphere-NX', 'Atmosphere', 'C++', 11372, 19, 1046], ['SCIR-HI', 'Huatuo-Llama-Med-Chinese', 'Python', 1115, 160, 98], ['unisat-wallet', 'extension', 'TypeScript', 196, 21, 71], ['AprilNEA', 'ChatGPT-Admin-Web', 'TypeScript', 542, 65, 284], ['Bin-Huang', 'chatbox', 'TypeScript', 10681, 137, 1075], ['lm-sys', 'FastChat', 'Python', 18803, 266, 2071], ['binarly-io', 'SupplyChainAttacks', None, 94, 35, 15], ['AUTOMATIC1111', 'stable-diffusion-webui', 'Python', 72732, 368, 13821]]\n"
     ]
    }
   ],
   "source": [
    "dados = []\n",
    "for projeto in projetos:\n",
    "    nome_projeto = projeto.find('h2').text.split()[0]\n",
    "    nome_dev = projeto.find('h2').text.split()[2] \n",
    "    linguagem = projeto.find('span',{'itemprop':'programmingLanguage'})\n",
    "    if linguagem == None:\n",
    "        linguagem = None\n",
    "    else:\n",
    "        linguagem = linguagem.text\n",
    "\n",
    "    bloco_geral = projeto.find('div',{'class':'f6 color-fg-muted mt-2'}).text.split()\n",
    "    estrelas = bloco_geral[-7].replace(',','')\n",
    "    estrelas_hoje = bloco_geral[-3].replace(',','')\n",
    "    forks = bloco_geral[-6].replace(',','')\n",
    "\n",
    "    dados.append([nome_projeto, nome_dev, linguagem, int(estrelas), int(estrelas_hoje),int(forks)])\n",
    "\n",
    "print(dados)    "
   ]
  },
  {
   "cell_type": "code",
   "execution_count": 128,
   "metadata": {},
   "outputs": [],
   "source": [
    "# Criação do arquivo em CSV, caso seja preciso\n",
    "with open('github.csv', 'w', newline='', encoding='utf-8') as arquivo:\n",
    "    writer = csv.writer(arquivo, delimiter=';')\n",
    "    writer.writerow(['nome_projeto', 'nome_dev', 'linguagem', 'estrelas', 'estrelas_hoje,forks'])\n",
    "    writer.writerows(dados)"
   ]
  },
  {
   "attachments": {},
   "cell_type": "markdown",
   "metadata": {},
   "source": [
    "Criação do dataframe Pandas"
   ]
  },
  {
   "cell_type": "code",
   "execution_count": 124,
   "metadata": {},
   "outputs": [
    {
     "data": {
      "text/html": [
       "<div>\n",
       "<style scoped>\n",
       "    .dataframe tbody tr th:only-of-type {\n",
       "        vertical-align: middle;\n",
       "    }\n",
       "\n",
       "    .dataframe tbody tr th {\n",
       "        vertical-align: top;\n",
       "    }\n",
       "\n",
       "    .dataframe thead th {\n",
       "        text-align: right;\n",
       "    }\n",
       "</style>\n",
       "<table border=\"1\" class=\"dataframe\">\n",
       "  <thead>\n",
       "    <tr style=\"text-align: right;\">\n",
       "      <th></th>\n",
       "      <th>nome_projeto</th>\n",
       "      <th>nome_dev</th>\n",
       "      <th>linguagem</th>\n",
       "      <th>estrelas</th>\n",
       "      <th>estrelas_hoje</th>\n",
       "      <th>forks</th>\n",
       "    </tr>\n",
       "  </thead>\n",
       "  <tbody>\n",
       "    <tr>\n",
       "      <th>0</th>\n",
       "      <td>qdrant</td>\n",
       "      <td>qdrant</td>\n",
       "      <td>Rust</td>\n",
       "      <td>7907</td>\n",
       "      <td>474</td>\n",
       "      <td>384</td>\n",
       "    </tr>\n",
       "    <tr>\n",
       "      <th>1</th>\n",
       "      <td>pineappleEA</td>\n",
       "      <td>pineapple-src</td>\n",
       "      <td>C++</td>\n",
       "      <td>1765</td>\n",
       "      <td>82</td>\n",
       "      <td>158</td>\n",
       "    </tr>\n",
       "    <tr>\n",
       "      <th>2</th>\n",
       "      <td>mosaicml</td>\n",
       "      <td>llm-foundry</td>\n",
       "      <td>Python</td>\n",
       "      <td>890</td>\n",
       "      <td>151</td>\n",
       "      <td>45</td>\n",
       "    </tr>\n",
       "    <tr>\n",
       "      <th>3</th>\n",
       "      <td>skyline-emu</td>\n",
       "      <td>skyline</td>\n",
       "      <td>C++</td>\n",
       "      <td>12735</td>\n",
       "      <td>35</td>\n",
       "      <td>1644</td>\n",
       "    </tr>\n",
       "    <tr>\n",
       "      <th>4</th>\n",
       "      <td>bigcode-project</td>\n",
       "      <td>starcoder</td>\n",
       "      <td>Python</td>\n",
       "      <td>2527</td>\n",
       "      <td>367</td>\n",
       "      <td>135</td>\n",
       "    </tr>\n",
       "    <tr>\n",
       "      <th>5</th>\n",
       "      <td>openai</td>\n",
       "      <td>shap-e</td>\n",
       "      <td>Python</td>\n",
       "      <td>3996</td>\n",
       "      <td>371</td>\n",
       "      <td>206</td>\n",
       "    </tr>\n",
       "    <tr>\n",
       "      <th>6</th>\n",
       "      <td>xiangsx</td>\n",
       "      <td>gpt4free-ts</td>\n",
       "      <td>TypeScript</td>\n",
       "      <td>126</td>\n",
       "      <td>39</td>\n",
       "      <td>53</td>\n",
       "    </tr>\n",
       "    <tr>\n",
       "      <th>7</th>\n",
       "      <td>GreyDGL</td>\n",
       "      <td>PentestGPT</td>\n",
       "      <td>Python</td>\n",
       "      <td>2759</td>\n",
       "      <td>136</td>\n",
       "      <td>264</td>\n",
       "    </tr>\n",
       "    <tr>\n",
       "      <th>8</th>\n",
       "      <td>azerothcore</td>\n",
       "      <td>azerothcore-wotlk</td>\n",
       "      <td>C++</td>\n",
       "      <td>3093</td>\n",
       "      <td>16</td>\n",
       "      <td>1694</td>\n",
       "    </tr>\n",
       "    <tr>\n",
       "      <th>9</th>\n",
       "      <td>tatsu-lab</td>\n",
       "      <td>stanford_alpaca</td>\n",
       "      <td>Python</td>\n",
       "      <td>23160</td>\n",
       "      <td>115</td>\n",
       "      <td>3316</td>\n",
       "    </tr>\n",
       "  </tbody>\n",
       "</table>\n",
       "</div>"
      ],
      "text/plain": [
       "      nome_projeto           nome_dev   linguagem  estrelas  estrelas_hoje   \n",
       "0           qdrant             qdrant        Rust      7907            474  \\\n",
       "1      pineappleEA      pineapple-src         C++      1765             82   \n",
       "2         mosaicml        llm-foundry      Python       890            151   \n",
       "3      skyline-emu            skyline         C++     12735             35   \n",
       "4  bigcode-project          starcoder      Python      2527            367   \n",
       "5           openai             shap-e      Python      3996            371   \n",
       "6          xiangsx        gpt4free-ts  TypeScript       126             39   \n",
       "7          GreyDGL         PentestGPT      Python      2759            136   \n",
       "8      azerothcore  azerothcore-wotlk         C++      3093             16   \n",
       "9        tatsu-lab    stanford_alpaca      Python     23160            115   \n",
       "\n",
       "   forks  \n",
       "0    384  \n",
       "1    158  \n",
       "2     45  \n",
       "3   1644  \n",
       "4    135  \n",
       "5    206  \n",
       "6     53  \n",
       "7    264  \n",
       "8   1694  \n",
       "9   3316  "
      ]
     },
     "execution_count": 124,
     "metadata": {},
     "output_type": "execute_result"
    }
   ],
   "source": [
    "github_df = pd.DataFrame(dados, columns=['nome_projeto', 'nome_dev', 'linguagem', 'estrelas', 'estrelas_hoje', 'forks'])\n",
    "github_df.head(10)"
   ]
  },
  {
   "cell_type": "code",
   "execution_count": 125,
   "metadata": {},
   "outputs": [
    {
     "data": {
      "text/plain": [
       "nome_projeto     False\n",
       "nome_dev         False\n",
       "linguagem         True\n",
       "estrelas         False\n",
       "estrelas_hoje    False\n",
       "forks            False\n",
       "dtype: bool"
      ]
     },
     "execution_count": 125,
     "metadata": {},
     "output_type": "execute_result"
    }
   ],
   "source": [
    "# Existe valores nulos na coluna 'linguagem', mas eles não afetarão no resultado final\n",
    "github_df.isnull().any()"
   ]
  },
  {
   "cell_type": "code",
   "execution_count": 135,
   "metadata": {},
   "outputs": [
    {
     "name": "stderr",
     "output_type": "stream",
     "text": [
      "C:\\Users\\caiom\\AppData\\Local\\Temp\\ipykernel_376\\1291590472.py:2: SettingWithCopyWarning: \n",
      "A value is trying to be set on a copy of a slice from a DataFrame.\n",
      "Try using .loc[row_indexer,col_indexer] = value instead\n",
      "\n",
      "See the caveats in the documentation: https://pandas.pydata.org/pandas-docs/stable/user_guide/indexing.html#returning-a-view-versus-a-copy\n",
      "  linguagem_df['qtde_projetos'] = 1\n"
     ]
    },
    {
     "data": {
      "text/html": [
       "<div>\n",
       "<style scoped>\n",
       "    .dataframe tbody tr th:only-of-type {\n",
       "        vertical-align: middle;\n",
       "    }\n",
       "\n",
       "    .dataframe tbody tr th {\n",
       "        vertical-align: top;\n",
       "    }\n",
       "\n",
       "    .dataframe thead th {\n",
       "        text-align: right;\n",
       "    }\n",
       "</style>\n",
       "<table border=\"1\" class=\"dataframe\">\n",
       "  <thead>\n",
       "    <tr style=\"text-align: right;\">\n",
       "      <th></th>\n",
       "      <th>linguagem</th>\n",
       "      <th>estrelas</th>\n",
       "      <th>estrelas_hoje</th>\n",
       "      <th>forks</th>\n",
       "      <th>qtde_projetos</th>\n",
       "    </tr>\n",
       "  </thead>\n",
       "  <tbody>\n",
       "    <tr>\n",
       "      <th>0</th>\n",
       "      <td>C</td>\n",
       "      <td>1707</td>\n",
       "      <td>114</td>\n",
       "      <td>300</td>\n",
       "      <td>2</td>\n",
       "    </tr>\n",
       "    <tr>\n",
       "      <th>1</th>\n",
       "      <td>C++</td>\n",
       "      <td>28965</td>\n",
       "      <td>152</td>\n",
       "      <td>4542</td>\n",
       "      <td>4</td>\n",
       "    </tr>\n",
       "    <tr>\n",
       "      <th>2</th>\n",
       "      <td>JavaScript</td>\n",
       "      <td>166</td>\n",
       "      <td>32</td>\n",
       "      <td>36</td>\n",
       "      <td>1</td>\n",
       "    </tr>\n",
       "    <tr>\n",
       "      <th>3</th>\n",
       "      <td>Python</td>\n",
       "      <td>129437</td>\n",
       "      <td>2295</td>\n",
       "      <td>20253</td>\n",
       "      <td>9</td>\n",
       "    </tr>\n",
       "    <tr>\n",
       "      <th>4</th>\n",
       "      <td>Rust</td>\n",
       "      <td>16628</td>\n",
       "      <td>1234</td>\n",
       "      <td>629</td>\n",
       "      <td>2</td>\n",
       "    </tr>\n",
       "    <tr>\n",
       "      <th>5</th>\n",
       "      <td>TypeScript</td>\n",
       "      <td>11630</td>\n",
       "      <td>305</td>\n",
       "      <td>1514</td>\n",
       "      <td>5</td>\n",
       "    </tr>\n",
       "  </tbody>\n",
       "</table>\n",
       "</div>"
      ],
      "text/plain": [
       "    linguagem  estrelas  estrelas_hoje  forks  qtde_projetos\n",
       "0           C      1707            114    300              2\n",
       "1         C++     28965            152   4542              4\n",
       "2  JavaScript       166             32     36              1\n",
       "3      Python    129437           2295  20253              9\n",
       "4        Rust     16628           1234    629              2\n",
       "5  TypeScript     11630            305   1514              5"
      ]
     },
     "execution_count": 135,
     "metadata": {},
     "output_type": "execute_result"
    }
   ],
   "source": [
    "# Criação de um novo dataframe com os dados focados para a coluna 'linguagem'\n",
    "linguagem_df = github_df[['linguagem','estrelas','estrelas_hoje','forks']]\n",
    "linguagem_df['qtde_projetos'] = 1\n",
    "linguagem_df = linguagem_df.groupby('linguagem').agg('sum').reset_index()\n",
    "linguagem_df"
   ]
  },
  {
   "cell_type": "code",
   "execution_count": 131,
   "metadata": {},
   "outputs": [
    {
     "data": {
      "text/plain": [
       "Text(0.5, 1.0, 'GitHub Trending: Quantidade de projetos por linguagem')"
      ]
     },
     "execution_count": 131,
     "metadata": {},
     "output_type": "execute_result"
    },
    {
     "data": {
      "image/png": "[encoded data removed]",
      "text/plain": [
       "<Figure size 1000x500 with 1 Axes>"
      ]
     },
     "metadata": {},
     "output_type": "display_data"
    }
   ],
   "source": [
    "plt.figure(figsize=(10,5))\n",
    "plt.grid()\n",
    "\n",
    "grafico = sns.barplot(data=linguagem_df, x='linguagem',y='qtde_projetos')\n",
    "grafico.set(xlabel=None,ylabel='quantidade de projetos')\n",
    "\n",
    "plt.title(\"GitHub Trending: Quantidade de projetos por linguagem\", fontsize = 12) \n"
   ]
  },
  {
   "cell_type": "code",
   "execution_count": 134,
   "metadata": {},
   "outputs": [
    {
     "data": {
      "text/plain": [
       "Text(0.5, 1.0, 'GitHub Trending: Quantidade de estrelas hoje por linguagem')"
      ]
     },
     "execution_count": 134,
     "metadata": {},
     "output_type": "execute_result"
    },
    {
     "data": {
      "image/png": "[encoded data removed]",
      "text/plain": [
       "<Figure size 1000x500 with 1 Axes>"
      ]
     },
     "metadata": {},
     "output_type": "display_data"
    }
   ],
   "source": [
    "plt.figure(figsize=(10,5))\n",
    "plt.grid()\n",
    "\n",
    "grafico = sns.barplot(data=linguagem_df, x='linguagem',y='estrelas_hoje')\n",
    "grafico.set(xlabel=None,ylabel='estrelas')\n",
    "\n",
    "plt.title(\"GitHub Trending: Quantidade de estrelas hoje por linguagem\", fontsize = 12) "
   ]
  }
 ],
 "metadata": {
  "kernelspec": {
   "display_name": "base",
   "language": "python",
   "name": "python3"
  },
  "language_info": {
   "codemirror_mode": {
    "name": "ipython",
    "version": 3
   },
   "file_extension": ".py",
   "mimetype": "text/x-python",
   "name": "python",
   "nbconvert_exporter": "python",
   "pygments_lexer": "ipython3",
   "version": "3.10.11"
  },
  "orig_nbformat": 4
 },
 "nbformat": 4,
 "nbformat_minor": 2
}
